{
 "cells": [
  {
   "cell_type": "code",
   "execution_count": 3,
   "id": "ef1ac6ac-cc3a-4d3a-af74-8fd802505dc8",
   "metadata": {},
   "outputs": [],
   "source": [
    "# initializing all libraries \n",
    "\n",
    "import pandas as pd\n",
    "import matplotlib.pyplot as plt\n",
    "import seaborn as sns\n",
    "import numpy as np\n",
    "\n",
    "%matplotlib inline"
   ]
  },
  {
   "cell_type": "code",
   "execution_count": 4,
   "id": "387a0fab-8077-4d95-920c-a01194b52e29",
   "metadata": {},
   "outputs": [],
   "source": [
    "# loading the lab dataset\n",
    "\n",
    "unilab_df = pd.read_csv('/Users/sashacrowe/codebase-ih/lab-eda-univariate/amz_uk_price_prediction_dataset.csv')"
   ]
  },
  {
   "cell_type": "markdown",
   "id": "d08b32fc-2a0f-45dd-b965-1611e62bb096",
   "metadata": {},
   "source": [
    "## First Look at the Dataset"
   ]
  },
  {
   "cell_type": "code",
   "execution_count": 6,
   "id": "c5baf084-0b09-413b-ae7a-77dd90d72f74",
   "metadata": {},
   "outputs": [
    {
     "data": {
      "text/html": [
       "<div>\n",
       "<style scoped>\n",
       "    .dataframe tbody tr th:only-of-type {\n",
       "        vertical-align: middle;\n",
       "    }\n",
       "\n",
       "    .dataframe tbody tr th {\n",
       "        vertical-align: top;\n",
       "    }\n",
       "\n",
       "    .dataframe thead th {\n",
       "        text-align: right;\n",
       "    }\n",
       "</style>\n",
       "<table border=\"1\" class=\"dataframe\">\n",
       "  <thead>\n",
       "    <tr style=\"text-align: right;\">\n",
       "      <th></th>\n",
       "      <th>uid</th>\n",
       "      <th>asin</th>\n",
       "      <th>title</th>\n",
       "      <th>stars</th>\n",
       "      <th>reviews</th>\n",
       "      <th>price</th>\n",
       "      <th>isBestSeller</th>\n",
       "      <th>boughtInLastMonth</th>\n",
       "      <th>category</th>\n",
       "    </tr>\n",
       "  </thead>\n",
       "  <tbody>\n",
       "    <tr>\n",
       "      <th>0</th>\n",
       "      <td>1</td>\n",
       "      <td>B09B96TG33</td>\n",
       "      <td>Echo Dot (5th generation, 2022 release) | Big ...</td>\n",
       "      <td>4.7</td>\n",
       "      <td>15308</td>\n",
       "      <td>21.99</td>\n",
       "      <td>False</td>\n",
       "      <td>0</td>\n",
       "      <td>Hi-Fi Speakers</td>\n",
       "    </tr>\n",
       "    <tr>\n",
       "      <th>1</th>\n",
       "      <td>2</td>\n",
       "      <td>B01HTH3C8S</td>\n",
       "      <td>Anker Soundcore mini, Super-Portable Bluetooth...</td>\n",
       "      <td>4.7</td>\n",
       "      <td>98099</td>\n",
       "      <td>23.99</td>\n",
       "      <td>True</td>\n",
       "      <td>0</td>\n",
       "      <td>Hi-Fi Speakers</td>\n",
       "    </tr>\n",
       "    <tr>\n",
       "      <th>2</th>\n",
       "      <td>3</td>\n",
       "      <td>B09B8YWXDF</td>\n",
       "      <td>Echo Dot (5th generation, 2022 release) | Big ...</td>\n",
       "      <td>4.7</td>\n",
       "      <td>15308</td>\n",
       "      <td>21.99</td>\n",
       "      <td>False</td>\n",
       "      <td>0</td>\n",
       "      <td>Hi-Fi Speakers</td>\n",
       "    </tr>\n",
       "    <tr>\n",
       "      <th>3</th>\n",
       "      <td>4</td>\n",
       "      <td>B09B8T5VGV</td>\n",
       "      <td>Echo Dot with clock (5th generation, 2022 rele...</td>\n",
       "      <td>4.7</td>\n",
       "      <td>7205</td>\n",
       "      <td>31.99</td>\n",
       "      <td>False</td>\n",
       "      <td>0</td>\n",
       "      <td>Hi-Fi Speakers</td>\n",
       "    </tr>\n",
       "    <tr>\n",
       "      <th>4</th>\n",
       "      <td>5</td>\n",
       "      <td>B09WX6QD65</td>\n",
       "      <td>Introducing Echo Pop | Full sound compact Wi-F...</td>\n",
       "      <td>4.6</td>\n",
       "      <td>1881</td>\n",
       "      <td>17.99</td>\n",
       "      <td>False</td>\n",
       "      <td>0</td>\n",
       "      <td>Hi-Fi Speakers</td>\n",
       "    </tr>\n",
       "  </tbody>\n",
       "</table>\n",
       "</div>"
      ],
      "text/plain": [
       "   uid        asin                                              title  stars  \\\n",
       "0    1  B09B96TG33  Echo Dot (5th generation, 2022 release) | Big ...    4.7   \n",
       "1    2  B01HTH3C8S  Anker Soundcore mini, Super-Portable Bluetooth...    4.7   \n",
       "2    3  B09B8YWXDF  Echo Dot (5th generation, 2022 release) | Big ...    4.7   \n",
       "3    4  B09B8T5VGV  Echo Dot with clock (5th generation, 2022 rele...    4.7   \n",
       "4    5  B09WX6QD65  Introducing Echo Pop | Full sound compact Wi-F...    4.6   \n",
       "\n",
       "   reviews  price  isBestSeller  boughtInLastMonth        category  \n",
       "0    15308  21.99         False                  0  Hi-Fi Speakers  \n",
       "1    98099  23.99          True                  0  Hi-Fi Speakers  \n",
       "2    15308  21.99         False                  0  Hi-Fi Speakers  \n",
       "3     7205  31.99         False                  0  Hi-Fi Speakers  \n",
       "4     1881  17.99         False                  0  Hi-Fi Speakers  "
      ]
     },
     "execution_count": 6,
     "metadata": {},
     "output_type": "execute_result"
    }
   ],
   "source": [
    "unilab_df.head()"
   ]
  },
  {
   "cell_type": "code",
   "execution_count": 7,
   "id": "1a869a97-f014-4fb6-82cb-73787d1bac30",
   "metadata": {},
   "outputs": [
    {
     "data": {
      "text/plain": [
       "(2443651, 9)"
      ]
     },
     "execution_count": 7,
     "metadata": {},
     "output_type": "execute_result"
    }
   ],
   "source": [
    "unilab_df.shape"
   ]
  },
  {
   "cell_type": "code",
   "execution_count": 8,
   "id": "8b39271e-2c5f-4fbd-9237-c0ac6e98e0db",
   "metadata": {},
   "outputs": [
    {
     "data": {
      "text/plain": [
       "uid                    int64\n",
       "asin                  object\n",
       "title                 object\n",
       "stars                float64\n",
       "reviews                int64\n",
       "price                float64\n",
       "isBestSeller            bool\n",
       "boughtInLastMonth      int64\n",
       "category              object\n",
       "dtype: object"
      ]
     },
     "execution_count": 8,
     "metadata": {},
     "output_type": "execute_result"
    }
   ],
   "source": [
    "unilab_df.dtypes"
   ]
  },
  {
   "cell_type": "markdown",
   "id": "8e489f8c-ca1d-4065-b21f-c8526c6b799d",
   "metadata": {},
   "source": [
    "**What are we looking at**\n",
    "\n",
    "uid -> unique id index -> int    \n",
    "asin -> serial id (with letters) -> string     \n",
    "title -> name of prod -> string    \n",
    "stars -> review -> float   \n",
    "price -> float    \n",
    "isBestSeller -> boolean with true = best seller   \n",
    "**boughtInLastMonth** -> categorical var but listed as int   \n",
    "category -> prod category var as string"
   ]
  },
  {
   "cell_type": "code",
   "execution_count": 9,
   "id": "ebaed0e1-2e17-49c0-8957-fb508848f760",
   "metadata": {},
   "outputs": [
    {
     "data": {
      "text/plain": [
       "uid                  0\n",
       "asin                 0\n",
       "title                0\n",
       "stars                0\n",
       "reviews              0\n",
       "price                0\n",
       "isBestSeller         0\n",
       "boughtInLastMonth    0\n",
       "category             0\n",
       "dtype: int64"
      ]
     },
     "execution_count": 9,
     "metadata": {},
     "output_type": "execute_result"
    }
   ],
   "source": [
    "# Checking for missing data\n",
    "unilab_df.isnull().sum().sort_values(ascending=False)"
   ]
  },
  {
   "cell_type": "code",
   "execution_count": 45,
   "id": "d4ca8831-ca13-463d-9fce-4a6362b58da1",
   "metadata": {},
   "outputs": [
    {
     "data": {
      "text/plain": [
       "20"
      ]
     },
     "execution_count": 45,
     "metadata": {},
     "output_type": "execute_result"
    }
   ],
   "source": [
    "(unilab_df['price'] == 0).sum()"
   ]
  },
  {
   "cell_type": "code",
   "execution_count": 46,
   "id": "e8b565d0-f4c0-4ef1-abe9-d65b020c2bc7",
   "metadata": {},
   "outputs": [
    {
     "data": {
      "text/plain": [
       "1876679"
      ]
     },
     "execution_count": 46,
     "metadata": {},
     "output_type": "execute_result"
    }
   ],
   "source": [
    "(unilab_df['price'] < 50).sum()"
   ]
  },
  {
   "cell_type": "markdown",
   "id": "8eef5209-07e5-40e7-99f6-13e5ff5263c5",
   "metadata": {},
   "source": [
    "## Part 1: Understanding Product Categories\n",
    "**Business Question:** What are the most popular product categories on Amazon UK, and how do they compare in terms of listing frequency?\n",
    "\n",
    "1. **Frequency Tables**   \n",
    "   Generate a freq tbl for the product category"
   ]
  },
  {
   "cell_type": "code",
   "execution_count": 14,
   "id": "eb0b3d31-b3b6-46a8-86ab-20c99dba6402",
   "metadata": {},
   "outputs": [
    {
     "data": {
      "text/plain": [
       "296"
      ]
     },
     "execution_count": 14,
     "metadata": {},
     "output_type": "execute_result"
    }
   ],
   "source": [
    "# how many categories are in the 'category' col?\n",
    "unilab_df['category'].nunique()"
   ]
  },
  {
   "cell_type": "code",
   "execution_count": 22,
   "id": "e3a26d93-a486-422b-95f8-528239d1deb9",
   "metadata": {},
   "outputs": [],
   "source": [
    "unilab_prodcat_freq_tbl = unilab_df['category'].value_counts().sort_values(ascending=False)"
   ]
  },
  {
   "cell_type": "markdown",
   "id": "693cbfc9-bc1e-4a9c-99be-5683c2e3b763",
   "metadata": {},
   "source": [
    "Which are the top 5 most listed product categories?"
   ]
  },
  {
   "cell_type": "code",
   "execution_count": 23,
   "id": "062073ec-890d-41e5-9035-44af56838294",
   "metadata": {},
   "outputs": [
    {
     "data": {
      "text/plain": [
       "category\n",
       "Sports & Outdoors                         836265\n",
       "Beauty                                     19312\n",
       "Handmade Clothing, Shoes & Accessories     19229\n",
       "Bath & Body                                19092\n",
       "Birthday Gifts                             18978\n",
       "Name: count, dtype: int64"
      ]
     },
     "execution_count": 23,
     "metadata": {},
     "output_type": "execute_result"
    }
   ],
   "source": [
    "# these are the top 5 most listed product categories:\n",
    "unilab_prodcat_freq_tbl.head()"
   ]
  },
  {
   "cell_type": "markdown",
   "id": "77553550-1197-4f2f-aebc-5569720c80ea",
   "metadata": {},
   "source": [
    "2. **Visualizations**\n",
    "   Display the distribution of products across different categories using a bar chart. If you face problems understanding the chart, do it for a subset of top categories."
   ]
  },
  {
   "cell_type": "code",
   "execution_count": 24,
   "id": "09eec32f-cf0e-4ec5-b338-f4f705f3b24f",
   "metadata": {},
   "outputs": [
    {
     "data": {
      "text/plain": [
       "<Axes: xlabel='category'>"
      ]
     },
     "execution_count": 24,
     "metadata": {},
     "output_type": "execute_result"
    },
    {
     "data": {
      "image/png": "[encoded data removed]",
      "text/plain": [
       "<Figure size 640x480 with 1 Axes>"
      ]
     },
     "metadata": {},
     "output_type": "display_data"
    }
   ],
   "source": [
    "top5cat = unilab_prodcat_freq_tbl.head()\n",
    "top5cat.plot.bar()"
   ]
  },
  {
   "cell_type": "markdown",
   "id": "bd6096b4-027d-49f2-846f-fd5281e750d6",
   "metadata": {},
   "source": [
    "For a subset of top categories, visualize their proportions using a pie chart.      \n",
    "Does any category dominate the listings? -> Yes, Sports & Outdoors"
   ]
  },
  {
   "cell_type": "code",
   "execution_count": 29,
   "id": "9ed5511e-e255-4985-860b-d8e1c808a9fa",
   "metadata": {},
   "outputs": [
    {
     "data": {
      "text/plain": [
       "<Axes: ylabel='count'>"
      ]
     },
     "execution_count": 29,
     "metadata": {},
     "output_type": "execute_result"
    },
    {
     "data": {
      "image/png": "[encoded data removed]",
      "text/plain": [
       "<Figure size 640x480 with 1 Axes>"
      ]
     },
     "metadata": {},
     "output_type": "display_data"
    }
   ],
   "source": [
    "top5cat.plot.pie(autopct='%1.0f%%')"
   ]
  },
  {
   "cell_type": "markdown",
   "id": "019071f7-0b01-41e4-be2e-e2d0b419f9b7",
   "metadata": {},
   "source": [
    "## Part 2: Delving into Product Pricing\n",
    "**Business Question:** How are products priced on Amazon UK, and are there specific price points or ranges that are more common?  \n",
    "\n",
    "1. **Measures of Centrality:**\n",
    "   Calculate the mean, median, and mode for the price of products."
   ]
  },
  {
   "cell_type": "code",
   "execution_count": 31,
   "id": "dec743b4-626d-499c-ba17-b92279baaf9b",
   "metadata": {},
   "outputs": [
    {
     "name": "stdout",
     "output_type": "stream",
     "text": [
      "Mean: 89.24\n",
      "Median: 19.09\n",
      "Mode: 9.99\n"
     ]
    }
   ],
   "source": [
    "mean_price = unilab_df['price'].mean().round(2)\n",
    "median_price = unilab_df['price'].median()\n",
    "mode_price = unilab_df['price'].mode()[0]\n",
    "\n",
    "print(f\"Mean: {mean_price}\")\n",
    "print(f\"Median: {median_price}\")\n",
    "print(f\"Mode: {mode_price}\")"
   ]
  },
  {
   "cell_type": "code",
   "execution_count": 32,
   "id": "cc048c07-869d-4f9b-9e02-20440a05882d",
   "metadata": {},
   "outputs": [
    {
     "data": {
      "text/plain": [
       "79.25"
      ]
     },
     "execution_count": 32,
     "metadata": {},
     "output_type": "execute_result"
    }
   ],
   "source": [
    "mean_price - mode_price"
   ]
  },
  {
   "cell_type": "markdown",
   "id": "d4ec4ee9-7908-46c6-8dd1-f6b26053024c",
   "metadata": {},
   "source": [
    "What's the average price point of products listed? How does this compare with the most common price point (mode)?\n",
    "- The average price is 89.24 which is 79.25 higher than the mode, which is 9.99  "
   ]
  },
  {
   "cell_type": "markdown",
   "id": "2d5bd988-c513-4d9b-9b39-31cac60e4370",
   "metadata": {},
   "source": [
    "2. **Measures of Dispersion:**    \n",
    "   Determine the variance, standard deviation, range, and interquartile range for product price."
   ]
  },
  {
   "cell_type": "code",
   "execution_count": 50,
   "id": "acb65f2a-9bfd-4d8e-86de-7d84809d99d9",
   "metadata": {},
   "outputs": [
    {
     "name": "stdout",
     "output_type": "stream",
     "text": [
      "Variance: 119445.49\n",
      "Standard Deviation: 345.61\n",
      "Interquartile Range (IQR): The 25th percentile 9.99 - the 75th percentile 45.99 = 36.0\n",
      "Range = max value 100000.0 - min value 0.0 = 100000.0\n"
     ]
    }
   ],
   "source": [
    "variance_price = round(unilab_df['price'].var(),2)\n",
    "std_dev_price = round(unilab_df['price'].std(),2)\n",
    "r_max_p = unilab_df['price'].max()\n",
    "r_min_p = unilab_df['price'].min()\n",
    "range_price = r_max_p - r_min_p\n",
    "Q1_p = unilab_df['price'].quantile(0.25)\n",
    "Q3_p = unilab_df['price'].quantile(0.75)\n",
    "IQR_price = Q3_p - Q1_p\n",
    "\n",
    "print(f\"Variance: {variance_price}\")\n",
    "print(f\"Standard Deviation: {std_dev_price}\")\n",
    "print(f\"Interquartile Range (IQR): The 25th percentile {Q1_p} - the 75th percentile {Q3_p} = {IQR_price}\")\n",
    "print(f\"Range = max value {r_max_p} - min value {r_min_p} = {range_price}\")"
   ]
  },
  {
   "cell_type": "markdown",
   "id": "4b27bfc1-d254-4df1-8e02-6a3cc3518dad",
   "metadata": {},
   "source": [
    "How varied are the product prices? Are there any indicators of a significant spread in prices?\n",
    "- The IQR is between 9.99 & 45.99, which spreads over an amount of 36.00 -> indicates bulk of prices are in this range\n",
    "- std is 345.61\n",
    "- The lowest value is free with a 0 going up to a max value of 100,000.00\n",
    "- With the bulk of prices being inbetween 9.99 & 45.99, the data indicates there are some outliers going up the range\n",
    "\n",
    "3. **Visualizations**   \n",
    "   Is there a specific price range where most products fall? Plot a histogram to visualize the distribution of product prices"
   ]
  },
  {
   "cell_type": "code",
   "execution_count": 41,
   "id": "174b8a4f-b186-476a-9c6a-3bd4358855c7",
   "metadata": {},
   "outputs": [
    {
     "data": {
      "text/plain": [
       "<Axes: xlabel='price', ylabel='Count'>"
      ]
     },
     "execution_count": 41,
     "metadata": {},
     "output_type": "execute_result"
    },
    {
     "data": {
      "image/png": "[encoded data removed]",
      "text/plain": [
       "<Figure size 640x480 with 1 Axes>"
      ]
     },
     "metadata": {},
     "output_type": "display_data"
    }
   ],
   "source": [
    "sns.histplot(unilab_df['price'], kde=False, bins=100)"
   ]
  },
  {
   "cell_type": "markdown",
   "id": "b3702eff-b797-4e7f-ba1b-cbf05ee68849",
   "metadata": {},
   "source": [
    "Are there products that are priced significantly higher than the rest? -> Yes, there are a lot of items under 50, but the range goes to 100,000   \n",
    "Use a box plot to showcase the spread and potential outliers in product pricing."
   ]
  },
  {
   "cell_type": "code",
   "execution_count": 43,
   "id": "7385ffda-872e-461d-992d-3b62f6aa36d9",
   "metadata": {},
   "outputs": [
    {
     "data": {
      "image/png": "[encoded data removed]",
      "text/plain": [
       "<Figure size 1000x600 with 1 Axes>"
      ]
     },
     "metadata": {},
     "output_type": "display_data"
    }
   ],
   "source": [
    "plt.figure(figsize=(10, 6))\n",
    "sns.boxplot(x=unilab_df['price'])\n",
    "plt.grid(True)\n",
    "plt.show()"
   ]
  },
  {
   "cell_type": "markdown",
   "id": "30b13319-d273-431f-bb65-a4587d057671",
   "metadata": {},
   "source": [
    "## Part 3: Unpacking Product Ratings\n",
    "**Business Question:** How do customers rate products on Amazon UK, and are there any patterns or tendencies in the ratings?\n",
    "\n",
    "1. **Measures of Centrality:**\n",
    "\n",
    "- Calculate the mean, median, and mode for the rating of products.\n",
    "- How do customers generally rate products? Is there a common trend? -> With the Median & Mode being 0 that means most ppl don't leave a review, because if they did the lowest number is 1. This skews the mean to 2.15 because it includes all the non-reviews."
   ]
  },
  {
   "cell_type": "code",
   "execution_count": 47,
   "id": "8d6d7062-bc6a-4a8c-ba00-a36d00452ff0",
   "metadata": {},
   "outputs": [
    {
     "name": "stdout",
     "output_type": "stream",
     "text": [
      "Mean: 2.15\n",
      "Median: 0.0\n",
      "Mode: 0.0\n"
     ]
    }
   ],
   "source": [
    "mean_stars = unilab_df['stars'].mean().round(2)\n",
    "median_stars = unilab_df['stars'].median()\n",
    "mode_stars = unilab_df['stars'].mode()[0]\n",
    "\n",
    "print(f\"Mean: {mean_stars}\")\n",
    "print(f\"Median: {median_stars}\")\n",
    "print(f\"Mode: {mode_stars}\")"
   ]
  },
  {
   "cell_type": "markdown",
   "id": "8a7854e9-eeff-4a89-8c25-8249142ecd98",
   "metadata": {},
   "source": [
    "2. **Measures of Dispersion:**\n",
    "\n",
    "Determine the variance, standard deviation, and interquartile range for product rating.   \n",
    "Are the ratings consistent, or is there a wide variation in customer feedback? -> the range matches the max value, meaning there is a high variation, especially when the 25th percentile is 0"
   ]
  },
  {
   "cell_type": "code",
   "execution_count": 49,
   "id": "c585ea7c-8047-4bc9-90e1-26778f284d5e",
   "metadata": {},
   "outputs": [
    {
     "name": "stdout",
     "output_type": "stream",
     "text": [
      "Variance: 4.82\n",
      "Standard Deviation: 2.19\n",
      "Interquartile Range (IQR): The 25th percentile 0.0 - the 75th percentile 4.4 = 4.4\n",
      "Range = max value 5.0 - min value 0.0 = 5.0\n"
     ]
    }
   ],
   "source": [
    "variance_stars = round(unilab_df['stars'].var(),2)\n",
    "std_dev_stars = round(unilab_df['stars'].std(),2)\n",
    "r_max_s = unilab_df['stars'].max()\n",
    "r_min_s = unilab_df['stars'].min()\n",
    "range_stars = r_max_s - r_min_s\n",
    "Q1_s = unilab_df['stars'].quantile(0.25)\n",
    "Q3_s = unilab_df['stars'].quantile(0.75)\n",
    "IQR_stars = Q3_s - Q1_s\n",
    "\n",
    "print(f\"Variance: {variance_stars}\")\n",
    "print(f\"Standard Deviation: {std_dev_stars}\")\n",
    "print(f\"Interquartile Range (IQR): The 25th percentile {Q1_s} - the 75th percentile {Q3_s} = {IQR_stars}\")\n",
    "print(f\"Range = max value {r_max_s} - min value {r_min_s} = {range_stars}\")"
   ]
  },
  {
   "cell_type": "markdown",
   "id": "817a4091-fa2b-4c01-9915-6e4ce4863938",
   "metadata": {},
   "source": [
    "3. **Shape of the Distribution:**\n",
    "\n",
    "Calculate the skewness and kurtosis for the rating column.   \n",
    "Are the ratings normally distributed, or do they lean towards higher or lower values?\n",
    "\n",
    "-> Skewness: The relatively neutral value of skewness (0.08) for 'stars' indicates that the distribution is roughly balanced. This means that the tails on both side are evening each other out. In practical terms, this suggests that the stars, when given, are rather high.\n",
    "\n",
    "-> Kurtosis: The kurtosis value of -1.93 is less than 0, which indicates that the 'stars' distribution has lighter tails and a flatter peak compared to a normal distribution. This means that there are fewer outliers (extreme values) in the 'stars' than one would expect in a normally distributed set.\n",
    "\n",
    "-> The skewness and kurtosis values suggest that the data is oddly balanced and flat, forming more like a valley than a peak. This would mean that when a star is given, the rating is rather high, but most records don't leave a star.\n"
   ]
  },
  {
   "cell_type": "code",
   "execution_count": 52,
   "id": "2e7fd1b2-2dd3-4f87-9388-9a451f4b4d1c",
   "metadata": {},
   "outputs": [
    {
     "data": {
      "text/plain": [
       "(0.08120735761080985, -1.9260061280432985)"
      ]
     },
     "execution_count": 52,
     "metadata": {},
     "output_type": "execute_result"
    }
   ],
   "source": [
    "skewness_stars = unilab_df['stars'].skew()\n",
    "kurtosis_stars = unilab_df['stars'].kurtosis()\n",
    "\n",
    "skewness_stars, kurtosis_stars"
   ]
  },
  {
   "cell_type": "markdown",
   "id": "58c4b658-43ce-4fc4-bc37-c14ba04c3656",
   "metadata": {},
   "source": [
    "3. **Visualizations**   \n",
    "   Plot a histogram to visualize the distribution of product ratings. Is there a specific rating that is more common? -> 0 is most common"
   ]
  },
  {
   "cell_type": "code",
   "execution_count": 53,
   "id": "4c80dc46-d3a5-430b-b75a-4fbedd23ccf7",
   "metadata": {},
   "outputs": [
    {
     "data": {
      "text/plain": [
       "<Axes: xlabel='stars', ylabel='Count'>"
      ]
     },
     "execution_count": 53,
     "metadata": {},
     "output_type": "execute_result"
    },
    {
     "data": {
      "image/png": "[encoded data removed]",
      "text/plain": [
       "<Figure size 640x480 with 1 Axes>"
      ]
     },
     "metadata": {},
     "output_type": "display_data"
    }
   ],
   "source": [
    "sns.histplot(unilab_df['stars'], kde=False, bins=10)"
   ]
  },
  {
   "cell_type": "code",
   "execution_count": null,
   "id": "e86c884c-2945-4414-9962-5a460f39a1f9",
   "metadata": {},
   "outputs": [],
   "source": []
  }
 ],
 "metadata": {
  "kernelspec": {
   "display_name": "Python 3 (ipykernel)",
   "language": "python",
   "name": "python3"
  },
  "language_info": {
   "codemirror_mode": {
    "name": "ipython",
    "version": 3
   },
   "file_extension": ".py",
   "mimetype": "text/x-python",
   "name": "python",
   "nbconvert_exporter": "python",
   "pygments_lexer": "ipython3",
   "version": "3.11.9"
  }
 },
 "nbformat": 4,
 "nbformat_minor": 5
}
